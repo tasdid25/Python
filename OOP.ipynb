{
  "nbformat": 4,
  "nbformat_minor": 0,
  "metadata": {
    "colab": {
      "provenance": [],
      "authorship_tag": "ABX9TyPOG4eRI9JVvDp8yzaasVAp",
      "include_colab_link": true
    },
    "kernelspec": {
      "name": "python3",
      "display_name": "Python 3"
    },
    "language_info": {
      "name": "python"
    }
  },
  "cells": [
    {
      "cell_type": "markdown",
      "metadata": {
        "id": "view-in-github",
        "colab_type": "text"
      },
      "source": [
        "<a href=\"https://colab.research.google.com/github/tasdid25/Python/blob/main/OOP.ipynb\" target=\"_parent\"><img src=\"https://colab.research.google.com/assets/colab-badge.svg\" alt=\"Open In Colab\"/></a>"
      ]
    },
    {
      "cell_type": "markdown",
      "source": [
        "# concepts:"
      ],
      "metadata": {
        "id": "x-8BveuoP6fo"
      }
    },
    {
      "cell_type": "markdown",
      "source": [
        "1. What is Object-Oriented Programming (OOP)\n",
        "2. Key Points\n",
        "    - Class\n",
        "    - Object\n",
        "    - Methods\n",
        "    - Encapsulation\n",
        "    - Polymorphism\n",
        "\n",
        "\n",
        "3. What is class\n",
        "4. How to write class\n",
        "5. A class can contain ( variables, functions) -> class properties\n",
        "6. What is Object .... Class Convert to Object\n",
        "8. What is static ..... Access Class properties without Object\n",
        "9. What is constructor (Auto Executed Method) (__init__)\n",
        "-----------------------------------------------------------------\n",
        "\n",
        "10. Single Inheritance (উত্তারাধিকার)\n",
        "11. Overriding\n",
        "12. Abstract (বিমুর্ত)\n",
        "13. Multiple Inheritance\n",
        "14. Multilevel Inheritance\n",
        "\n",
        "-----------------------------------------------------------------\n",
        "\n",
        "15. What is Access Modifier\n",
        "\n",
        "\n",
        "16. Public Access Modifier\n",
        "    -No leading underscore\n",
        "    -Attributes and methods are public by default\n",
        "    -They can be accessed and modified both inside and outside the class.\n",
        "    -There are no restrictions on public attributes.\n",
        "\n",
        "\n",
        "17. Private Access Modifier\n",
        "    - (__) leading underscore\n",
        "    - They can be accessed and modified inside the class\n",
        "\n",
        "18. Encapsulation\n",
        "    - Protection\n",
        "    - Controlled Access\n",
        "    - Modularity\n",
        "\n",
        "19. Protected  Access Modifier\n",
        "    -  Protected act like as public\n",
        "    - (_) leading underscore\n",
        "\n",
        "20. Method Overloading\n",
        "     - Default Arguments\n",
        "     - Variable-Length Arguments\n",
        "\n",
        "21. Polymorphism\n",
        "    - Inheritance->overriding -> Runtime Polymorphism\n",
        "    - overloading -> Compile-time Polymorphism\n",
        "\n",
        "\n",
        "\n",
        "\n",
        "\n",
        "\n",
        "\n",
        "\n",
        "\n",
        "\n",
        "\n",
        "\n"
      ],
      "metadata": {
        "id": "MRjc38a-B0dN"
      }
    },
    {
      "cell_type": "code",
      "source": [
        "class Profile:\n",
        "\n",
        "    x = 20\n",
        "    y = 30\n",
        "\n",
        "    def addTwo(self):\n",
        "        z=self.x+self.y\n",
        "        print(z)\n",
        "\n",
        "\n",
        "\n",
        "obj1 = Profile()\n",
        "\n",
        "obj1.addTwo()\n",
        "print(obj1.x)\n",
        "print(obj1.y)\n",
        "\n",
        "\n"
      ],
      "metadata": {
        "colab": {
          "base_uri": "https://localhost:8080/"
        },
        "id": "-DK3vlGtB7Gd",
        "outputId": "6bed8848-9537-403c-f68e-c6e6d11d6e23"
      },
      "execution_count": null,
      "outputs": [
        {
          "output_type": "stream",
          "name": "stdout",
          "text": [
            "50\n",
            "20\n",
            "30\n"
          ]
        }
      ]
    },
    {
      "cell_type": "markdown",
      "source": [
        "# @staticmethod"
      ],
      "metadata": {
        "id": "7iBMZr1DCh5G"
      }
    },
    {
      "cell_type": "code",
      "source": [
        "class Profile:\n",
        "\n",
        "    x = 20\n",
        "    y = 30\n",
        "\n",
        "    @staticmethod\n",
        "    def addTwo():\n",
        "        z=Profile.x+Profile.y\n",
        "        print(z)\n",
        "\n",
        "\n",
        "Profile.addTwo()"
      ],
      "metadata": {
        "colab": {
          "base_uri": "https://localhost:8080/"
        },
        "id": "EkB_GH-xCEY-",
        "outputId": "6e113c5b-6caa-4b9b-87ad-99222c01568c"
      },
      "execution_count": null,
      "outputs": [
        {
          "output_type": "stream",
          "name": "stdout",
          "text": [
            "50\n"
          ]
        }
      ]
    },
    {
      "cell_type": "markdown",
      "source": [
        "#  _ _init_ _ : constructor"
      ],
      "metadata": {
        "id": "n2QVH9PmC-j-"
      }
    },
    {
      "cell_type": "code",
      "source": [
        "class Profile:\n",
        "\n",
        "    x=10\n",
        "    y=20\n",
        "\n",
        "    def __init__(self):\n",
        "        z = self.x - self.y\n",
        "        print(z)\n",
        "\n",
        "    def addTwo(self):\n",
        "        z=self.x+self.y\n",
        "        print(z)\n",
        "\n",
        "\n",
        "Profile()\n",
        "\n"
      ],
      "metadata": {
        "colab": {
          "base_uri": "https://localhost:8080/"
        },
        "id": "Me1zkPb_CZ9P",
        "outputId": "39bb59ad-ee2b-4b31-b7f4-01b74e50930a"
      },
      "execution_count": null,
      "outputs": [
        {
          "output_type": "stream",
          "name": "stdout",
          "text": [
            "-10\n"
          ]
        },
        {
          "output_type": "execute_result",
          "data": {
            "text/plain": [
              "<__main__.Profile at 0x79cb4e01dde0>"
            ]
          },
          "metadata": {},
          "execution_count": 4
        }
      ]
    },
    {
      "cell_type": "markdown",
      "source": [
        "# Single Inheritance | Overriding"
      ],
      "metadata": {
        "id": "Y5tdrOztDVBO"
      }
    },
    {
      "cell_type": "code",
      "source": [
        "class Father:\n",
        "    x = 20\n",
        "    y = 30\n",
        "\n",
        "    def __init__(self):\n",
        "        z = self.x - self.y\n",
        "        print(z)\n",
        "\n",
        "    def addTwo(self):\n",
        "        z = self.x + self.y\n",
        "        print(z)\n",
        "\n",
        "    @staticmethod\n",
        "    def mulTwo():\n",
        "        z = Father.x * Father.y\n",
        "        print(z)\n",
        "\n",
        "\n",
        "\n",
        "class Son(Father):\n",
        "    x = 10\n",
        "    y = 5\n",
        "    def addTwo(self):\n",
        "        z = self.x + self.y\n",
        "        print(z)\n",
        "\n",
        "\n",
        "# If we use Overrided properties for son\n",
        "ObjSon = Son()\n",
        "ObjSon.addTwo()\n"
      ],
      "metadata": {
        "colab": {
          "base_uri": "https://localhost:8080/"
        },
        "id": "nefLTHfIDLPe",
        "outputId": "cc995c28-1326-416a-a13b-293eb3c2a27d"
      },
      "execution_count": null,
      "outputs": [
        {
          "output_type": "stream",
          "name": "stdout",
          "text": [
            "5\n",
            "15\n"
          ]
        }
      ]
    },
    {
      "cell_type": "markdown",
      "source": [
        "# Multiple Inheritance"
      ],
      "metadata": {
        "id": "Z1OnhoQZEpnW"
      }
    },
    {
      "cell_type": "code",
      "source": [
        "class Father:\n",
        "    def addTwo(self,num1,num2):\n",
        "        print(num1+num2)\n",
        "\n",
        "\n",
        "\n",
        "class Mother:\n",
        "    def mulTwo(self,num1,num2):\n",
        "        print(num1*num2)\n",
        "\n",
        "\n",
        "class Son(Father,Mother):\n",
        "     pass\n",
        "\n",
        "\n",
        "\n",
        "\n",
        "objSon = Son()\n",
        "objSon.addTwo(1,2)\n",
        "objSon.mulTwo(3,4)"
      ],
      "metadata": {
        "colab": {
          "base_uri": "https://localhost:8080/"
        },
        "id": "eVNaf38gEiKW",
        "outputId": "34223097-92ea-4c66-b3dd-63df852e35e2"
      },
      "execution_count": null,
      "outputs": [
        {
          "output_type": "stream",
          "name": "stdout",
          "text": [
            "3\n",
            "12\n"
          ]
        }
      ]
    },
    {
      "cell_type": "markdown",
      "source": [
        "# Abstractmethod | @abstractmethod"
      ],
      "metadata": {
        "id": "mFpU678KENDu"
      }
    },
    {
      "cell_type": "code",
      "source": [
        "from abc import ABC,abstractmethod\n",
        "class Father(ABC):\n",
        "    x = 20\n",
        "    y = 30\n",
        "\n",
        "    @abstractmethod\n",
        "    def addTwo(self):\n",
        "        pass\n",
        "\n",
        "class Son(Father):\n",
        "    def addTwo(self):\n",
        "\n",
        "        \"\"\"\n",
        "        Overrides the `addTwo` method from the `Father` class.\n",
        "        \"\"\"\n",
        "        z = self.x + self.y\n",
        "        print(z)\n",
        "\n",
        "#fatherObj= Father()\n",
        "#fatherObj.addTwo() #Abstract classes are blueprints and are not meant to be instantiated\n",
        "\n",
        "sonObj = Son()\n",
        "sonObj.addTwo()\n",
        "\n"
      ],
      "metadata": {
        "colab": {
          "base_uri": "https://localhost:8080/"
        },
        "id": "4HuIofBCD76-",
        "outputId": "96a6822d-8972-4832-c6de-bb61c7ba5738"
      },
      "execution_count": null,
      "outputs": [
        {
          "output_type": "stream",
          "name": "stdout",
          "text": [
            "50\n"
          ]
        }
      ]
    },
    {
      "cell_type": "markdown",
      "source": [
        "# Access Modifier"
      ],
      "metadata": {
        "id": "twI4Zy4dE5EW"
      }
    },
    {
      "cell_type": "code",
      "source": [
        "\n",
        "class Father:\n",
        "    # Private attributes (name-mangled with double underscores)\n",
        "    __x = 20  # A private attribute, accessible only within the class\n",
        "    __y = 30\n",
        "\n",
        "    # Protected attribute (single underscore)\n",
        "    _z = 100  # A protected attribute, meant to be accessed by subclasses or internally\n",
        "\n",
        "    # Public attribute (no underscore)\n",
        "    a = 1000  # A public attribute, accessible from outside the class\n",
        "\n",
        "    # Define a public method to add two private attributes\n",
        "    def addTwo(self):\n",
        "        # Accessing and adding the private attributes within the method\n",
        "        print(self.__x + self.__y)\n",
        "\n",
        "\n",
        "# Create an instance of the `Father` class\n",
        "obj = Father()\n",
        "\n",
        "# Access and print the public attribute `a`\n",
        "print(obj.a)  # Output: 1000\n",
        "print(obj._z) # Output: 100\n",
        "print(obj._Father__x) # Output: 20\n",
        "\n",
        "obj.addTwo() # Output: 50"
      ],
      "metadata": {
        "colab": {
          "base_uri": "https://localhost:8080/"
        },
        "id": "gChXnk-2EzHn",
        "outputId": "7ced0260-2707-4d7f-e289-06874a6ec1d4"
      },
      "execution_count": null,
      "outputs": [
        {
          "output_type": "stream",
          "name": "stdout",
          "text": [
            "1000\n",
            "100\n",
            "20\n",
            "50\n"
          ]
        }
      ]
    },
    {
      "cell_type": "markdown",
      "source": [
        "# Method Overloading:"
      ],
      "metadata": {
        "id": "4cpoic6YKx5v"
      }
    },
    {
      "cell_type": "code",
      "source": [
        "class Father:\n",
        "    def addNumbers(self,a=0,b=0,c=0):\n",
        "        print(a+b+c)\n",
        "\n",
        "    def myNumbers(self, *args):\n",
        "\n",
        "        \"\"\"\n",
        "        This method accepts a variable number of arguments and prints them.\n",
        "        Parameters:\n",
        "        *args: A tuple containing all positional arguments passed to the method.\n",
        "\n",
        "        \"\"\"\n",
        "\n",
        "        print(*args)\n",
        "\n",
        "Obj = Father()\n",
        "\n",
        "# default arguments\n",
        "Obj.addNumbers(2)\n",
        "Obj.addNumbers(2,2,3)\n",
        "Obj.addNumbers(2,2)\n",
        "\n",
        "# variable length arguments\n",
        "Obj.myNumbers()\n",
        "Obj.myNumbers(1)\n",
        "Obj.myNumbers(1,2)\n",
        "Obj.myNumbers(1,2,3)\n",
        "Obj.myNumbers(1,2,3,4)"
      ],
      "metadata": {
        "colab": {
          "base_uri": "https://localhost:8080/"
        },
        "id": "lo3NHKm7FvM-",
        "outputId": "32349b8d-3555-40b0-d139-eff1a7e9217b"
      },
      "execution_count": null,
      "outputs": [
        {
          "output_type": "stream",
          "name": "stdout",
          "text": [
            "2\n",
            "7\n",
            "4\n",
            "\n",
            "1\n",
            "1 2\n",
            "1 2 3\n",
            "1 2 3 4\n"
          ]
        }
      ]
    },
    {
      "cell_type": "markdown",
      "source": [
        "## super(): don't need to hard-code the parent class name"
      ],
      "metadata": {
        "id": "qS1pCKD6N7_4"
      }
    },
    {
      "cell_type": "code",
      "source": [
        "# Define a base class named `Father`\n",
        "class Father:\n",
        "    def __init__(self):\n",
        "        \"\"\"\n",
        "        Constructor for the `Father` class.\n",
        "        When an object of the `Father` class is created, this method is automatically called.\n",
        "\n",
        "        \"\"\"\n",
        "        print(\"I am father\")  # Prints a message indicating the creation of a `Father` object\n",
        "\n",
        "\n",
        "# Define a derived class named `Son` that inherits from `Father`\n",
        "class Son(Father):\n",
        "    def __init__(self):\n",
        "        \"\"\"\n",
        "        Constructor for the `Son` class.\n",
        "\n",
        "        This method calls the constructor of the `Father` class using `super().__init__()`\n",
        "        to ensure that the base class initialization logic is executed.\n",
        "        Then, it prints a message indicating that the object belongs to the `Son` class.\n",
        "        \"\"\"\n",
        "        super().__init__()  # Call the constructor of the `Father` class\n",
        "        print(\"I am son\")  # Prints a message indicating the creation of a `Son` object\n",
        "\n",
        "\n",
        "# Create an instance of the `Son` class\n",
        "Obj = Son()"
      ],
      "metadata": {
        "colab": {
          "base_uri": "https://localhost:8080/"
        },
        "id": "F4kKWba5HUO-",
        "outputId": "48d234e5-f699-4a4b-e16e-00cab9f90229"
      },
      "execution_count": null,
      "outputs": [
        {
          "output_type": "stream",
          "name": "stdout",
          "text": [
            "I am father\n",
            "I am son\n"
          ]
        }
      ]
    }
  ]
}