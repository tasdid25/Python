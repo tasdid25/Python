{
  "nbformat": 4,
  "nbformat_minor": 0,
  "metadata": {
    "colab": {
      "provenance": [],
      "authorship_tag": "ABX9TyPjd13kSyaRflsUmEXRB2FF",
      "include_colab_link": true
    },
    "kernelspec": {
      "name": "python3",
      "display_name": "Python 3"
    },
    "language_info": {
      "name": "python"
    }
  },
  "cells": [
    {
      "cell_type": "markdown",
      "metadata": {
        "id": "view-in-github",
        "colab_type": "text"
      },
      "source": [
        "<a href=\"https://colab.research.google.com/github/tasdid25/Python/blob/main/File_Error_handling.ipynb\" target=\"_parent\"><img src=\"https://colab.research.google.com/assets/colab-badge.svg\" alt=\"Open In Colab\"/></a>"
      ]
    },
    {
      "cell_type": "markdown",
      "source": [
        "1. Why File\n",
        "2. Use Case\n",
        "    - Reading and Writing Text Files\n",
        "    - CSV File Processing\n",
        "    - Log File Management\n",
        "    - Configuration Files\n",
        "    - Data Serialization\n",
        "    - Binary File Handling\n",
        "    - File Searching and Filtering\n",
        "    - Uploads and Downloads:\n",
        "    - Temporary File Storage\n",
        "    - File Compression and Decompression\n",
        "\n",
        "3. Create/Write File\n",
        "\n",
        "4. Reading from a File\n",
        "\n",
        "5. Renaming a File\n",
        "\n",
        "6. Delete\n",
        "\n",
        "7. Folder Creating\n",
        "\n",
        "8. Renaming a Directory\n",
        "\n",
        "9. Deleting a Directory\n",
        "\n",
        "10. How to make zip a Directory\n",
        "\n",
        "11. How to Make CSV File From List\n",
        "\n",
        "12. How to Read a CSV File\n",
        "\n",
        "\n",
        "13. Error Handling Use Case\n",
        "        - User Input Validation\n",
        "        - File Operations\n",
        "        - Network Communication\n",
        "        - API Interactions\n",
        "        - Database Access\n",
        "        - Parsing\n",
        "\n",
        "14.Types Error\n",
        "        - ArithmeticError\n",
        "        - ImportError\n",
        "        - FileNotFoundError\n",
        "        - KeyError\n",
        "        - MemoryError\n",
        "        - OSError\n",
        "        - RuntimeError\n",
        "        - SyntaxError\n",
        "\n",
        "15. Error Handling -> Catching All Exceptions\n",
        "\n",
        "\n",
        "16. Try except\n",
        "\n",
        "17. finally block\n",
        "    - For Gental User Exist or Shutdown\n",
        "    - Task Finishing Confirmation\n",
        "\n",
        "\n",
        "\n",
        "\n",
        "\n"
      ],
      "metadata": {
        "id": "Hq4m9TTFY_4i"
      }
    },
    {
      "cell_type": "markdown",
      "source": [
        "#  Create File"
      ],
      "metadata": {
        "id": "MIkalS5MZyJR"
      }
    },
    {
      "cell_type": "code",
      "execution_count": 2,
      "metadata": {
        "id": "L3AWhCf5Y-CA"
      },
      "outputs": [],
      "source": [
        "#  Create File\n",
        "with open('batch03.py',\"w\") as myFile:\n",
        "    myFile.write(\"print('Hello')\")"
      ]
    },
    {
      "cell_type": "markdown",
      "source": [
        "# Reading from a File"
      ],
      "metadata": {
        "id": "dqNhHUemZ0v4"
      }
    },
    {
      "cell_type": "code",
      "source": [
        "# Reading from a File\n",
        "with open(\"batch03.py\",\"r\") as myFile:\n",
        "    content= myFile.read()\n",
        "    print(content)"
      ],
      "metadata": {
        "colab": {
          "base_uri": "https://localhost:8080/"
        },
        "id": "71JHqyjXZ9Zn",
        "outputId": "cb471f1d-3077-482f-927e-c5f7142e0ed1"
      },
      "execution_count": 4,
      "outputs": [
        {
          "output_type": "stream",
          "name": "stdout",
          "text": [
            "print('Hello')\n"
          ]
        }
      ]
    },
    {
      "cell_type": "markdown",
      "source": [
        "# Renaming a File"
      ],
      "metadata": {
        "id": "Jm2NNlctaWuo"
      }
    },
    {
      "cell_type": "code",
      "source": [
        "#  Renaming a File\n",
        "import os\n",
        "os.rename(\"batch03.py\",\"python03.text\")"
      ],
      "metadata": {
        "id": "0mnCTsWraOzw"
      },
      "execution_count": 6,
      "outputs": []
    },
    {
      "cell_type": "markdown",
      "source": [
        "# Delete a File"
      ],
      "metadata": {
        "id": "TxE1SN_Uae4g"
      }
    },
    {
      "cell_type": "code",
      "source": [
        "#  Delete a File\n",
        "import os\n",
        "os.remove(\"python03.text\")"
      ],
      "metadata": {
        "id": "du_yWVZPaaiA"
      },
      "execution_count": null,
      "outputs": []
    },
    {
      "cell_type": "markdown",
      "source": [
        "# Folder Creating"
      ],
      "metadata": {
        "id": "PbI0utr8ar_Q"
      }
    },
    {
      "cell_type": "code",
      "source": [
        "# Folder Creating\n",
        "import os\n",
        "os.mkdir(\"2024\")\n",
        "os.mkdir(\"2024/11\")\n",
        "with open('2024/11/rabbil.png',\"w\") as myFile:\n",
        "    myFile.write(\"\")"
      ],
      "metadata": {
        "id": "XpXUDKsWainQ"
      },
      "execution_count": 7,
      "outputs": []
    },
    {
      "cell_type": "code",
      "source": [
        "import os\n",
        "os.mkdir(\"ostad\")\n",
        "os.mkdir(\"ostad/boys\")\n",
        "os.mkdir(\"ostad/girls\")"
      ],
      "metadata": {
        "id": "DeGJjWO8auzQ"
      },
      "execution_count": 8,
      "outputs": []
    },
    {
      "cell_type": "markdown",
      "source": [
        "# Renaming a Directory"
      ],
      "metadata": {
        "id": "lxJ1fT1tbR4g"
      }
    },
    {
      "cell_type": "code",
      "source": [
        "# Renaming a Directory\n",
        "import os\n",
        "os.rename(\"2024/11\",\"2024/nov\")"
      ],
      "metadata": {
        "id": "Xn84cKv-bNGw"
      },
      "execution_count": 9,
      "outputs": []
    },
    {
      "cell_type": "markdown",
      "source": [
        "# Deleting a Directory"
      ],
      "metadata": {
        "id": "XtvKh9jdbgao"
      }
    },
    {
      "cell_type": "code",
      "source": [
        "# Deleting a Directory\n",
        "import os\n",
        "os.rmdir(\"ostad/girls\")"
      ],
      "metadata": {
        "id": "uLG2VKjjbVL4"
      },
      "execution_count": 12,
      "outputs": []
    },
    {
      "cell_type": "markdown",
      "source": [
        "# make zip from a Directory"
      ],
      "metadata": {
        "id": "5qcPRWGMcMGw"
      }
    },
    {
      "cell_type": "code",
      "source": [
        "# Create a zip archive of the '2024' folder as 2024_new.zip\n",
        "import shutil\n",
        "shutil.make_archive(\"2024_new\",'zip','2024')"
      ],
      "metadata": {
        "colab": {
          "base_uri": "https://localhost:8080/",
          "height": 35
        },
        "id": "19rXIzYscITg",
        "outputId": "8ea71770-6dc7-4d51-f224-ada8227202e7"
      },
      "execution_count": 13,
      "outputs": [
        {
          "output_type": "execute_result",
          "data": {
            "text/plain": [
              "'/content/2024_new.zip'"
            ],
            "application/vnd.google.colaboratory.intrinsic+json": {
              "type": "string"
            }
          },
          "metadata": {},
          "execution_count": 13
        }
      ]
    },
    {
      "cell_type": "markdown",
      "source": [
        "# extract zip"
      ],
      "metadata": {
        "id": "l4qWJKcEcY2w"
      }
    },
    {
      "cell_type": "code",
      "source": [
        "# How to extract\n",
        "import zipfile\n",
        "with zipfile.ZipFile(\"2024_new.zip\",\"r\") as MyZipFile:\n",
        "    MyZipFile.extractall()"
      ],
      "metadata": {
        "id": "_t6qy4vocRD4"
      },
      "execution_count": 15,
      "outputs": []
    },
    {
      "cell_type": "markdown",
      "source": [
        "# Make CSV File From List"
      ],
      "metadata": {
        "id": "gBDKTYrJdfdg"
      }
    },
    {
      "cell_type": "code",
      "source": [
        "# How to Make CSV File From List\n",
        "\n",
        "import csv\n",
        "data = [\n",
        "    [\"Name\", \"Salary\", \"Designation\", \"Department\", \"Location\"],\n",
        "    [\"Alice\", 70000, \"Software Engineer\", \"IT\", \"New York\"],\n",
        "    [\"Bob\", 85000, \"Data Scientist\", \"Data\", \"San Francisco\"],\n",
        "    [\"Charlie\", 60000, \"System Administrator\", \"IT\", \"Chicago\"],\n",
        "    [\"David\", 95000, \"Product Manager\", \"Product\", \"Boston\"],\n",
        "    [\"Eve\", 72000, \"UX Designer\", \"Design\", \"Los Angeles\"]\n",
        "]\n",
        "\n",
        "with open(\"employee.csv\",mode=\"w\",newline='') as csvFile:\n",
        "    csvFileWriter = csv.writer(csvFile)\n",
        "    csvFileWriter.writerow(data)\n",
        "\n"
      ],
      "metadata": {
        "id": "qnhnK9Excd3Y"
      },
      "execution_count": 16,
      "outputs": []
    },
    {
      "cell_type": "markdown",
      "source": [
        "# Read a CSV File"
      ],
      "metadata": {
        "id": "tZEDgXQxdn1T"
      }
    },
    {
      "cell_type": "code",
      "source": [
        "# How to Read a CSV File\n",
        "import csv\n",
        "with open(\"employee.csv\",mode=\"r\") as myFile:\n",
        "    myFileReader=csv.reader(myFile)\n",
        "    for row in myFileReader:\n",
        "        print(row)"
      ],
      "metadata": {
        "colab": {
          "base_uri": "https://localhost:8080/"
        },
        "id": "J1qnag9jdiOo",
        "outputId": "660809df-9c23-44a4-c6b7-24d5ece09f5f"
      },
      "execution_count": 17,
      "outputs": [
        {
          "output_type": "stream",
          "name": "stdout",
          "text": [
            "[\"['Name', 'Salary', 'Designation', 'Department', 'Location']\", \"['Alice', 70000, 'Software Engineer', 'IT', 'New York']\", \"['Bob', 85000, 'Data Scientist', 'Data', 'San Francisco']\", \"['Charlie', 60000, 'System Administrator', 'IT', 'Chicago']\", \"['David', 95000, 'Product Manager', 'Product', 'Boston']\", \"['Eve', 72000, 'UX Designer', 'Design', 'Los Angeles']\"]\n"
          ]
        }
      ]
    },
    {
      "cell_type": "markdown",
      "source": [
        "# Error Handling -> Catching All Exceptions"
      ],
      "metadata": {
        "id": "bp1ZHRvngr8B"
      }
    },
    {
      "cell_type": "code",
      "source": [
        "# Error Handling -> Catching All Exceptions\n",
        "try:\n",
        "    with open(\"abc.text\", \"r\") as file:\n",
        "        content = file.read()\n",
        "        num = 10/0\n",
        "\n",
        "    with open(\"abc.text\", \"r\") as file:\n",
        "        content1 = file.read()\n",
        "        num2 = 10/0\n",
        "\n",
        "    with open(\"abc.text\", \"r\") as file:\n",
        "        content2 = file.read()\n",
        "        num3 = 10/0\n",
        "\n",
        "\n",
        "except Exception as e:\n",
        "     print(f\"My Error is {e}\")\n",
        "      #LOG->\n",
        "finally:\n",
        "    print(\"Something Went Wrong ! Please Try Again Later\")\n",
        "    print(\"Loader animation off\")\n",
        ""
      ],
      "metadata": {
        "colab": {
          "base_uri": "https://localhost:8080/"
        },
        "id": "sICqOUnCduX4",
        "outputId": "312c6fd0-9f66-424e-a409-d7acbad333e0"
      },
      "execution_count": 25,
      "outputs": [
        {
          "output_type": "stream",
          "name": "stdout",
          "text": [
            "My Error is [Errno 2] No such file or directory: 'abc.text'\n",
            "Something Went Wrong ! Please Try Again Later\n",
            "Loader animation off\n"
          ]
        }
      ]
    }
  ]
}