{
  "nbformat": 4,
  "nbformat_minor": 0,
  "metadata": {
    "colab": {
      "provenance": [],
      "authorship_tag": "ABX9TyPqjAQE7uQDMnhAQ9tq4lqf",
      "include_colab_link": true
    },
    "kernelspec": {
      "name": "python3",
      "display_name": "Python 3"
    },
    "language_info": {
      "name": "python"
    }
  },
  "cells": [
    {
      "cell_type": "markdown",
      "metadata": {
        "id": "view-in-github",
        "colab_type": "text"
      },
      "source": [
        "<a href=\"https://colab.research.google.com/github/tasdid25/Python/blob/main/3_String.ipynb\" target=\"_parent\"><img src=\"https://colab.research.google.com/assets/colab-badge.svg\" alt=\"Open In Colab\"/></a>"
      ]
    },
    {
      "cell_type": "markdown",
      "source": [
        "String"
      ],
      "metadata": {
        "id": "QkUA8dfZoewU"
      }
    },
    {
      "cell_type": "markdown",
      "source": [
        "![image.png](data:image/png;base64,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)"
      ],
      "metadata": {
        "id": "-o77qEnho6da"
      }
    },
    {
      "cell_type": "code",
      "source": [
        "a = \"Hello World\"\n",
        "print(a)\n",
        "print(a[0])\n",
        "print(a[-1])\n",
        "print(a[0:3])\n",
        "print(a[0:])\n",
        "print(a[1:])\n",
        "print(a[:4])\n",
        "print(a[0:-1])"
      ],
      "metadata": {
        "colab": {
          "base_uri": "https://localhost:8080/"
        },
        "id": "ocxHSaBcoMzj",
        "outputId": "747f44d3-2877-49e4-86c8-13436f6a42f0"
      },
      "execution_count": null,
      "outputs": [
        {
          "output_type": "stream",
          "name": "stdout",
          "text": [
            "Hello World\n",
            "H\n",
            "d\n",
            "Hel\n",
            "Hello World\n",
            "ello World\n",
            "Hell\n",
            "Hello Worl\n"
          ]
        }
      ]
    },
    {
      "cell_type": "code",
      "source": [],
      "metadata": {
        "id": "eT4StFkZpb9_"
      },
      "execution_count": null,
      "outputs": []
    }
  ]
}